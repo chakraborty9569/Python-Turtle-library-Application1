{
 "cells": [
  {
   "cell_type": "code",
   "execution_count": 1,
   "metadata": {},
   "outputs": [],
   "source": [
    "#importing turtle library\n",
    "import turtle"
   ]
  },
  {
   "cell_type": "code",
   "execution_count": 2,
   "metadata": {},
   "outputs": [],
   "source": [
    "#creating a reference to the turtle object\n",
    "t=turtle.Turtle()"
   ]
  },
  {
   "cell_type": "code",
   "execution_count": 3,
   "metadata": {},
   "outputs": [],
   "source": [
    "#drawing rectangle\n",
    "def drawRectangle(t,angle,width,height,color):\n",
    "    t.fillcolor(color)           #filling color to the shape\n",
    "    t.begin_fill()\n",
    "    t.forward(width)\n",
    "    t.left(angle)\n",
    "    t.forward(height)\n",
    "    t.left(angle)\n",
    "    t.forward(width)\n",
    "    t.left(angle)\n",
    "    t.forward(height)\n",
    "    t.left(angle)\n",
    "    t.end_fill()"
   ]
  },
  {
   "cell_type": "code",
   "execution_count": 4,
   "metadata": {},
   "outputs": [],
   "source": [
    "#drawing triangle\n",
    "def drawTriangle(t,angle1,angle2,base,sides,color):\n",
    "    t.fillcolor(color)          #filling color to the shape\n",
    "    t.begin_fill()\n",
    "    t.forward(base)\n",
    "    t.left(angle1)\n",
    "    t.forward(sides)\n",
    "    t.left(angle2)\n",
    "    t.forward(sides)\n",
    "    t.left(angle1)\n",
    "    t.end_fill()"
   ]
  },
  {
   "cell_type": "code",
   "execution_count": 5,
   "metadata": {},
   "outputs": [],
   "source": [
    "#function call\n",
    "drawRectangle(t,90,100,110,\"green\")\n",
    "#placing the turtle to the desired position\n",
    "t.penup()\n",
    "t.goto(0,110)\n",
    "t.pendown()\n",
    "#function call\n",
    "drawTriangle(t,135,90,100,70,\"blue\")\n",
    "#placing the turtle to the desired position\n",
    "t.penup()\n",
    "t.goto(30,0)\n",
    "t.pendown()\n",
    "#function call\n",
    "drawRectangle(t,90,40,60,\"white\")"
   ]
  },
  {
   "cell_type": "code",
   "execution_count": null,
   "metadata": {},
   "outputs": [],
   "source": []
  }
 ],
 "metadata": {
  "kernelspec": {
   "display_name": "Python 3",
   "language": "python",
   "name": "python3"
  },
  "language_info": {
   "codemirror_mode": {
    "name": "ipython",
    "version": 3
   },
   "file_extension": ".py",
   "mimetype": "text/x-python",
   "name": "python",
   "nbconvert_exporter": "python",
   "pygments_lexer": "ipython3",
   "version": "3.7.6"
  }
 },
 "nbformat": 4,
 "nbformat_minor": 4
}
